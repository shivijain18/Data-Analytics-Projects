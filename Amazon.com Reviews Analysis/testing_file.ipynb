{
 "cells": [
  {
   "cell_type": "code",
   "execution_count": 17,
   "metadata": {},
   "outputs": [],
   "source": [
    "import pandas as pd\n",
    "import glob"
   ]
  },
  {
   "cell_type": "code",
   "execution_count": 18,
   "metadata": {},
   "outputs": [],
   "source": [
    "def to_csv():\n",
    "    path =r'C:/Users/Shivi/PycharmProjects/BIA660D_Group_2_Project/data_gathering' # use your path\n",
    "    allFiles = glob.glob(path + \"/*.csv\")\n",
    "    frame = pd.DataFrame()\n",
    "    list_ = []\n",
    "    for file_ in allFiles:\n",
    "        df = pd.read_csv(file_,index_col=None, header=0)\n",
    "        list_.append(df)\n",
    "    return pd.concat(list_)"
   ]
  },
  {
   "cell_type": "code",
   "execution_count": 19,
   "metadata": {},
   "outputs": [],
   "source": [
    "df = to_csv()"
   ]
  },
  {
   "cell_type": "code",
   "execution_count": null,
   "metadata": {},
   "outputs": [],
   "source": [
    "def transform_texts(texts):\n",
    "    # Load the annotation models\n",
    "    nlp = English()\n",
    "    # Stream texts through the models. We accumulate a buffer and release\n",
    "    # the GIL around the parser, for efficient multi-threading.\n",
    "    for doc in nlp.pipe(texts, n_threads=4):\n",
    "        # Iterate over base NPs, e.g. \"all their good ideas\"\n",
    "        for np in doc.noun_chunks:\n",
    "            # Only keep adjectives and nouns, e.g. \"good ideas\"\n",
    "            while len(np) > 1 and np[0].dep_ not in ('amod', 'compound'):\n",
    "                np = np[1:]\n",
    "            if len(np) > 1:\n",
    "                # Merge the tokens, e.g. good_ideas\n",
    "                np.merge(np.root.tag_, np.text, np.root.ent_type_)\n",
    "            # Iterate over named entities\n",
    "            for ent in doc.ents:\n",
    "                if len(ent) > 1:\n",
    "                    # Merge them into single tokens\n",
    "                    ent.merge(ent.root.tag_, ent.text, ent.label_)\n",
    "        token_strings = []\n",
    "        for token in tokens:\n",
    "            token_strings.append(token.text.replace(' ', '_'))\n",
    "        yield ' '.join(token_strings)"
   ]
  }
 ],
 "metadata": {
  "kernelspec": {
   "display_name": "Python 3",
   "language": "python",
   "name": "python3"
  },
  "language_info": {
   "codemirror_mode": {
    "name": "ipython",
    "version": 3
   },
   "file_extension": ".py",
   "mimetype": "text/x-python",
   "name": "python",
   "nbconvert_exporter": "python",
   "pygments_lexer": "ipython3",
   "version": "3.6.5"
  }
 },
 "nbformat": 4,
 "nbformat_minor": 2
}
